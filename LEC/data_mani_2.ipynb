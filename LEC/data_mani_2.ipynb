{
 "cells": [
  {
   "cell_type": "code",
   "execution_count": 1,
   "metadata": {},
   "outputs": [
    {
     "name": "stdout",
     "output_type": "stream",
     "text": [
      "(541909, 7)\n",
      "    InvNo     SKU  Qty          InvDate  UnitP    CusID           Cntry\n",
      "0  536365  85123A    6  2010-12-01 8:26   2.55  17850.0  United Kingdom\n",
      "1  536365   71053    6  2010-12-01 8:26   3.39  17850.0  United Kingdom\n",
      "2  536365  84406B    8  2010-12-01 8:26   2.75  17850.0  United Kingdom\n",
      "3  536365  84029G    6  2010-12-01 8:26   3.39  17850.0  United Kingdom\n",
      "4  536365  84029E    6  2010-12-01 8:26   3.39  17850.0  United Kingdom\n",
      "InvNo       object\n",
      "SKU         object\n",
      "Qty          int64\n",
      "InvDate     object\n",
      "UnitP      float64\n",
      "CusID      float64\n",
      "Cntry       object\n",
      "dtype: object\n"
     ]
    }
   ],
   "source": [
    "import pandas as pd\n",
    "# load CSV using pandas\n",
    "from pandas import read_csv\n",
    "filename = 'OnlineRetail.csv'\n",
    "names = [\"InvNo\", \"SKU\", \"Descr\", \"Qty\", \"InvDate\",\n",
    "\"UnitP\", \"CusID\", \"Cntry\"]\n",
    "sales = read_csv(filename, header=0, names=names,\n",
    "encoding = \"ISO-8859-1\")\n",
    "# drop some column\n",
    "sales.drop('Descr', axis=1, inplace=True)\n",
    "print(sales.shape)\n",
    "print(sales.head())\n",
    "print(sales.dtypes)"
   ]
  },
  {
   "cell_type": "code",
   "execution_count": 2,
   "metadata": {},
   "outputs": [
    {
     "name": "stdout",
     "output_type": "stream",
     "text": [
      "CusID\n",
      "12346.0      2\n",
      "12347.0    182\n",
      "12348.0     31\n",
      "12349.0     73\n",
      "12350.0     17\n",
      "          ... \n",
      "18280.0     10\n",
      "18281.0      7\n",
      "18282.0     13\n",
      "18283.0    756\n",
      "18287.0     70\n",
      "Name: SKU, Length: 4372, dtype: int64\n"
     ]
    }
   ],
   "source": [
    "# group by customer ID\n",
    "by_customer = sales.groupby('CusID')\n",
    "# aggregate transactions in sales by \"counting SKU\"\n",
    "# Important Note:\n",
    "# \"counting SKU\" only means that the number of rows\n",
    "# that contain an entry for SKU are counted\n",
    "count_by_customer = by_customer['SKU'].count()\n",
    "print(count_by_customer)\n",
    "# Then, how many transactions are there for each\n",
    "# individual SKU sold to a particular customer?"
   ]
  },
  {
   "cell_type": "code",
   "execution_count": 3,
   "metadata": {},
   "outputs": [
    {
     "name": "stdout",
     "output_type": "stream",
     "text": [
      "CusID    SKU   \n",
      "12346.0  23166     2\n",
      "12347.0  16008     1\n",
      "         17021     1\n",
      "         20665     1\n",
      "         20719     4\n",
      "                  ..\n",
      "18287.0  84920     1\n",
      "         85039A    2\n",
      "         85039B    3\n",
      "         85040A    2\n",
      "         85173     1\n",
      "Name: SKU, Length: 267615, dtype: int64\n"
     ]
    }
   ],
   "source": [
    "# group by customer ID and StockCode\n",
    "by_customer_SKU = sales.groupby(['CusID','SKU'])\n",
    "# aggregate transactions in sales by \"counting SKU\"\n",
    "# Again:\n",
    "# \"counting SKU\" only means that the number of rows\n",
    "# that contain an entry for SKU are counted\n",
    "count_by_customer_SKU = by_customer_SKU['SKU'].count()\n",
    "print(count_by_customer_SKU)"
   ]
  },
  {
   "cell_type": "code",
   "execution_count": 7,
   "metadata": {},
   "outputs": [
    {
     "name": "stdout",
     "output_type": "stream",
     "text": [
      "SKU\n",
      "10002           1037\n",
      "10080            495\n",
      "10120            193\n",
      "10123C           -13\n",
      "10123G           -38\n",
      "                ... \n",
      "gift_0001_20      20\n",
      "gift_0001_30      37\n",
      "gift_0001_40       3\n",
      "gift_0001_50       4\n",
      "m                  1\n",
      "Name: Qty, Length: 4070, dtype: int64\n",
      "CusID    SKU   \n",
      "12346.0  23166       0\n",
      "12347.0  16008      24\n",
      "         17021      36\n",
      "         20665       6\n",
      "         20719      40\n",
      "                  ... \n",
      "18287.0  84920       4\n",
      "         85039A     96\n",
      "         85039B    120\n",
      "         85040A     48\n",
      "         85173      48\n",
      "Name: Qty, Length: 267615, dtype: int64\n",
      "InvNo\n",
      "536365       3.910000\n",
      "536366       1.850000\n",
      "536367       4.853333\n",
      "536368       4.775000\n",
      "536369       5.950000\n",
      "              ...    \n",
      "C581484      2.080000\n",
      "C581490      1.390000\n",
      "C581499    224.690000\n",
      "C581568     10.950000\n",
      "C581569      1.250000\n",
      "Name: UnitP, Length: 25900, dtype: float64\n"
     ]
    }
   ],
   "source": [
    "# group by Country and aggregate all columns\n",
    "# print(sales.groupby('Cntry').count())\n",
    "# group by SKU and sum up Qty\n",
    "# or: How many of each SKU been sold?\n",
    "# Note: Returns have a negative Qty\n",
    "print(sales.groupby('SKU')['Qty'].sum())\n",
    "# How many of each SKU have been sold to each customer?\n",
    "print(sales.groupby(['CusID','SKU'])['Qty'].sum())\n",
    "# group by InvNo and find the average unit price\n",
    "print(sales.groupby('InvNo')['UnitP'].mean())"
   ]
  },
  {
   "cell_type": "code",
   "execution_count": 8,
   "metadata": {},
   "outputs": [
    {
     "name": "stdout",
     "output_type": "stream",
     "text": [
      "               Qty\n",
      "SKU               \n",
      "10002         1037\n",
      "10080          495\n",
      "10120          193\n",
      "10123C         -13\n",
      "10123G         -38\n",
      "...            ...\n",
      "gift_0001_20    20\n",
      "gift_0001_30    37\n",
      "gift_0001_40     3\n",
      "gift_0001_50     4\n",
      "m                1\n",
      "\n",
      "[4070 rows x 1 columns]\n"
     ]
    }
   ],
   "source": [
    "# Important note:\n",
    "# ♦ If you aggregate only one column, a Series will\n",
    "# be returned.\n",
    "# ♦ If you aggregate multiple columns, a DataFrame\n",
    "# will be returned.\n",
    "# What if we always want to get a DataFrame?\n",
    "# group by SKU and sum up Qty\n",
    "print(pd.DataFrame(sales.groupby('SKU')['Qty'].sum()))"
   ]
  },
  {
   "cell_type": "code",
   "execution_count": 11,
   "metadata": {},
   "outputs": [
    {
     "name": "stdout",
     "output_type": "stream",
     "text": [
      "Cntry\n",
      "Saudi Arabia               12\n",
      "RSA                        12\n",
      "Brazil                     24\n",
      "European Community         24\n",
      "Lebanon                    24\n",
      "Unspecified                48\n",
      "Malta                      48\n",
      "Lithuania                  48\n",
      "Greece                     48\n",
      "United Arab Emirates       72\n",
      "USA                        72\n",
      "Poland                     72\n",
      "Czech Republic             72\n",
      "Bahrain                    96\n",
      "Israel                    100\n",
      "Portugal                  120\n",
      "Hong Kong                 144\n",
      "Finland                   144\n",
      "Italy                     200\n",
      "Iceland                   240\n",
      "Norway                    240\n",
      "Denmark                   256\n",
      "Belgium                   272\n",
      "Cyprus                    288\n",
      "Switzerland               288\n",
      "Austria                   288\n",
      "Singapore                 288\n",
      "Spain                     360\n",
      "Channel Islands           407\n",
      "Canada                    504\n",
      "Germany                   600\n",
      "Sweden                    768\n",
      "France                    912\n",
      "Australia                1152\n",
      "EIRE                     1440\n",
      "Japan                    2040\n",
      "Netherlands              2400\n",
      "United Kingdom          80995\n",
      "Name: (Qty, max), dtype: int64\n",
      "Cntry\n",
      "Australia               1.790\n",
      "Austria                 1.950\n",
      "Bahrain                 3.810\n",
      "Belgium                 1.950\n",
      "Brazil                  3.320\n",
      "Canada                  1.650\n",
      "Channel Islands         2.550\n",
      "Cyprus                  2.950\n",
      "Czech Republic          1.450\n",
      "Denmark                 1.950\n",
      "EIRE                    2.100\n",
      "European Community      3.350\n",
      "Finland                 2.080\n",
      "France                  1.790\n",
      "Germany                 1.950\n",
      "Greece                  2.100\n",
      "Hong Kong               2.325\n",
      "Iceland                 2.015\n",
      "Israel                  1.950\n",
      "Italy                   2.550\n",
      "Japan                   1.650\n",
      "Lebanon                 3.950\n",
      "Lithuania               2.550\n",
      "Malta                   2.950\n",
      "Netherlands             1.450\n",
      "Norway                  2.080\n",
      "Poland                  2.080\n",
      "Portugal                1.650\n",
      "RSA                     2.950\n",
      "Saudi Arabia            2.300\n",
      "Singapore               2.100\n",
      "Spain                   2.080\n",
      "Sweden                  1.650\n",
      "Switzerland             1.690\n",
      "USA                     1.450\n",
      "United Arab Emirates    1.670\n",
      "United Kingdom          2.100\n",
      "Unspecified             1.650\n",
      "Name: (UnitP, median), dtype: float64\n"
     ]
    }
   ],
   "source": [
    "# group by Country\n",
    "by_country = sales.groupby('Cntry')\n",
    "# select Qty and UnitP\n",
    "by_country_sub = by_country[['Qty','UnitP']]\n",
    "# aggregate columns in the sub DF by 'max' and 'median'\n",
    "# use method \".agg()\"\n",
    "aggregated = by_country_sub.agg(['max','median'])\n",
    "# print the maximum Qty for each country (sorted)\n",
    "print(aggregated[('Qty','max')].sort_values())\n",
    "# print the median UnitP for each country\n",
    "print(aggregated[('UnitP','median')])"
   ]
  },
  {
   "cell_type": "code",
   "execution_count": 12,
   "metadata": {},
   "outputs": [
    {
     "name": "stdout",
     "output_type": "stream",
     "text": [
      "            Qty          UnitP       \n",
      "            max median     max median\n",
      "Cntry                                \n",
      "Australia  1152   24.0  350.00   1.79\n",
      "Austria     288    9.0   40.00   1.95\n",
      "Bahrain      96    6.0   12.75   3.81\n",
      "Belgium     272   10.0   39.95   1.95\n",
      "Brazil       24   10.0   10.95   3.32\n"
     ]
    }
   ],
   "source": [
    "print(aggregated.head())\n"
   ]
  },
  {
   "cell_type": "code",
   "execution_count": 13,
   "metadata": {},
   "outputs": [
    {
     "name": "stdout",
     "output_type": "stream",
     "text": [
      "                                                                    Descr  \\\n",
      "Cntry          CusID   InvNo  SKU                                           \n",
      "United Kingdom 17850.0 536365 85123A   WHITE HANGING HEART T-LIGHT HOLDER   \n",
      "                              71053                   WHITE METAL LANTERN   \n",
      "                              84406B       CREAM CUPID HEARTS COAT HANGER   \n",
      "                              84029G  KNITTED UNION FLAG HOT WATER BOTTLE   \n",
      "                              84029E       RED WOOLLY HOTTIE WHITE HEART.   \n",
      "                              22752          SET 7 BABUSHKA NESTING BOXES   \n",
      "                              21730     GLASS STAR FROSTED T-LIGHT HOLDER   \n",
      "                       536366 22633                HAND WARMER UNION JACK   \n",
      "                              22632             HAND WARMER RED POLKA DOT   \n",
      "               13047.0 536367 84879         ASSORTED COLOUR BIRD ORNAMENT   \n",
      "                              22745            POPPY'S PLAYHOUSE BEDROOM    \n",
      "                              22748             POPPY'S PLAYHOUSE KITCHEN   \n",
      "\n",
      "                                      Qty          InvDate  UnitP  \n",
      "Cntry          CusID   InvNo  SKU                                  \n",
      "United Kingdom 17850.0 536365 85123A    6  2010-12-01 8:26   2.55  \n",
      "                              71053     6  2010-12-01 8:26   3.39  \n",
      "                              84406B    8  2010-12-01 8:26   2.75  \n",
      "                              84029G    6  2010-12-01 8:26   3.39  \n",
      "                              84029E    6  2010-12-01 8:26   3.39  \n",
      "                              22752     2  2010-12-01 8:26   7.65  \n",
      "                              21730     6  2010-12-01 8:26   4.25  \n",
      "                       536366 22633     6  2010-12-01 8:28   1.85  \n",
      "                              22632     6  2010-12-01 8:28   1.85  \n",
      "               13047.0 536367 84879    32  2010-12-01 8:34   1.69  \n",
      "                              22745     6  2010-12-01 8:34   2.10  \n",
      "                              22748     6  2010-12-01 8:34   2.10  \n"
     ]
    }
   ],
   "source": [
    "# MUlti Level Row Index\n",
    "sales = read_csv(filename, header=0, names=names,\n",
    "encoding = \"ISO-8859-1\",\n",
    "index_col=['Cntry','CusID','InvNo','SKU'])\n",
    "print(sales.head(12))"
   ]
  },
  {
   "cell_type": "code",
   "execution_count": 14,
   "metadata": {},
   "outputs": [
    {
     "name": "stdout",
     "output_type": "stream",
     "text": [
      "                        Descr  Qty  InvDate  UnitP\n",
      "Cntry          CusID                              \n",
      "Australia      12386.0     10   10       10     10\n",
      "               12388.0    100  100      100    100\n",
      "               12393.0     64   64       64     64\n",
      "               12415.0    778  778      778    778\n",
      "               12422.0     21   21       21     21\n",
      "...                       ...  ...      ...    ...\n",
      "United Kingdom 18287.0     70   70       70     70\n",
      "Unspecified    12363.0     23   23       23     23\n",
      "               12743.0    134  134      134    134\n",
      "               14265.0     31   31       31     31\n",
      "               16320.0     56   56       56     56\n",
      "\n",
      "[4380 rows x 4 columns]\n"
     ]
    }
   ],
   "source": [
    "# To group by Cntry and CusID you should use the level\n",
    "# parameter:\n",
    "by_country_customer = sales.groupby(level=['Cntry','CusID'])\n",
    "print(by_country_customer.count())"
   ]
  },
  {
   "cell_type": "code",
   "execution_count": 16,
   "metadata": {},
   "outputs": [
    {
     "name": "stdout",
     "output_type": "stream",
     "text": [
      "               Cntry    CusID  Descr  Qty  InvDate  UnitP\n",
      "0          Australia  12386.0     10   10       10     10\n",
      "1          Australia  12388.0    100  100      100    100\n",
      "2          Australia  12393.0     64   64       64     64\n",
      "3          Australia  12415.0    778  778      778    778\n",
      "4          Australia  12422.0     21   21       21     21\n",
      "...              ...      ...    ...  ...      ...    ...\n",
      "4375  United Kingdom  18287.0     70   70       70     70\n",
      "4376     Unspecified  12363.0     23   23       23     23\n",
      "4377     Unspecified  12743.0    134  134      134    134\n",
      "4378     Unspecified  14265.0     31   31       31     31\n",
      "4379     Unspecified  16320.0     56   56       56     56\n",
      "\n",
      "[4380 rows x 6 columns]\n"
     ]
    }
   ],
   "source": [
    "by_country_customer = sales.groupby(level=['Cntry','CusID'])\n",
    "ccc = by_country_customer.count()\n",
    "ccc = ccc.reset_index()\n",
    "print(ccc)\n",
    "# flatten the index of sales as well, i.e., reset it:\n",
    "sales = sales.reset_index()"
   ]
  },
  {
   "cell_type": "code",
   "execution_count": 20,
   "metadata": {},
   "outputs": [
    {
     "name": "stdout",
     "output_type": "stream",
     "text": [
      "    InvNo     SKU                                Descr  Qty  \\\n",
      "0  536365  85123A   WHITE HANGING HEART T-LIGHT HOLDER    6   \n",
      "1  536365   71053                  WHITE METAL LANTERN    6   \n",
      "2  536365  84406B       CREAM CUPID HEARTS COAT HANGER    8   \n",
      "3  536365  84029G  KNITTED UNION FLAG HOT WATER BOTTLE    6   \n",
      "4  536365  84029E       RED WOOLLY HOTTIE WHITE HEART.    6   \n",
      "\n",
      "              InvDate  UnitP    CusID           Cntry  \n",
      "0 2010-12-01 08:26:00   2.55  17850.0  United Kingdom  \n",
      "1 2010-12-01 08:26:00   3.39  17850.0  United Kingdom  \n",
      "2 2010-12-01 08:26:00   2.75  17850.0  United Kingdom  \n",
      "3 2010-12-01 08:26:00   3.39  17850.0  United Kingdom  \n",
      "4 2010-12-01 08:26:00   3.39  17850.0  United Kingdom  \n",
      "                      InvNo     SKU                                Descr  Qty  \\\n",
      "InvDate                                                                         \n",
      "2010-12-01 08:26:00  536365  85123A   WHITE HANGING HEART T-LIGHT HOLDER    6   \n",
      "2010-12-01 08:26:00  536365   71053                  WHITE METAL LANTERN    6   \n",
      "2010-12-01 08:26:00  536365  84406B       CREAM CUPID HEARTS COAT HANGER    8   \n",
      "2010-12-01 08:26:00  536365  84029G  KNITTED UNION FLAG HOT WATER BOTTLE    6   \n",
      "2010-12-01 08:26:00  536365  84029E       RED WOOLLY HOTTIE WHITE HEART.    6   \n",
      "\n",
      "                     UnitP    CusID           Cntry  \n",
      "InvDate                                              \n",
      "2010-12-01 08:26:00   2.55  17850.0  United Kingdom  \n",
      "2010-12-01 08:26:00   3.39  17850.0  United Kingdom  \n",
      "2010-12-01 08:26:00   2.75  17850.0  United Kingdom  \n",
      "2010-12-01 08:26:00   3.39  17850.0  United Kingdom  \n",
      "2010-12-01 08:26:00   3.39  17850.0  United Kingdom  \n"
     ]
    }
   ],
   "source": [
    "# parsing InvDate as date\n",
    "sales = read_csv(filename, header=0, names=names,\n",
    "encoding = \"ISO-8859-1\", parse_dates=['InvDate'])\n",
    "print(sales.head())\n",
    "# parsing InvDate as date and making it the index\n",
    "sales = read_csv(filename, header=0, names=names,\n",
    "encoding = \"ISO-8859-1\", index_col='InvDate',\n",
    "parse_dates=True)\n",
    "print(sales.head())\n",
    "# For non-standard datetime parsing, use pd.to_datetime\n",
    "# after pd.read_csv, e.g.,\n",
    "# sales['InvDate'] = pd.to_datetime(sales['InvDate'],\n",
    "# format='%Y-%m-%d %H:%M')"
   ]
  },
  {
   "cell_type": "code",
   "execution_count": 21,
   "metadata": {},
   "outputs": [
    {
     "name": "stdout",
     "output_type": "stream",
     "text": [
      "    InvNo     SKU                                Descr  Qty  \\\n",
      "0  536365  85123A   WHITE HANGING HEART T-LIGHT HOLDER    6   \n",
      "1  536365   71053                  WHITE METAL LANTERN    6   \n",
      "2  536365  84406B       CREAM CUPID HEARTS COAT HANGER    8   \n",
      "3  536365  84029G  KNITTED UNION FLAG HOT WATER BOTTLE    6   \n",
      "4  536365  84029E       RED WOOLLY HOTTIE WHITE HEART.    6   \n",
      "\n",
      "              InvDate  UnitP    CusID           Cntry  \n",
      "0 2010-12-01 08:26:00   2.55  17850.0  United Kingdom  \n",
      "1 2010-12-01 08:26:00   3.39  17850.0  United Kingdom  \n",
      "2 2010-12-01 08:26:00   2.75  17850.0  United Kingdom  \n",
      "3 2010-12-01 08:26:00   3.39  17850.0  United Kingdom  \n",
      "4 2010-12-01 08:26:00   3.39  17850.0  United Kingdom  \n",
      "InvDate\n",
      "Thu    1167823\n",
      "Wed     969558\n",
      "Tue     961543\n",
      "Mon     815354\n",
      "Fri     794440\n",
      "Sun     467732\n",
      "Name: Qty, dtype: int64\n"
     ]
    },
    {
     "data": {
      "text/plain": [
       "InvDate\n",
       "Mon     815354.0\n",
       "Tue     961543.0\n",
       "Wed     969558.0\n",
       "Thu    1167823.0\n",
       "Fri     794440.0\n",
       "Sat          NaN\n",
       "Sun     467732.0\n",
       "Name: Qty, dtype: float64"
      ]
     },
     "execution_count": 21,
     "metadata": {},
     "output_type": "execute_result"
    }
   ],
   "source": [
    "# parsing InvDate as date\n",
    "sales = read_csv(filename, header=0, names=names,\n",
    "encoding = \"ISO-8859-1\", parse_dates=['InvDate'])\n",
    "print(sales.head())\n",
    "# grouping by weekday\n",
    "by_day = sales.groupby(sales.InvDate.dt.strftime('%a'))\n",
    "# how many units were sold each weekday?\n",
    "qty_sum = by_day['Qty'].sum()\n",
    "print(qty_sum.sort_values(ascending=False))\n",
    "# following the natural weekday ordering, categories are:\n",
    "cats = ['Mon', 'Tue', 'Wed', 'Thu', 'Fri', 'Sat', 'Sun']\n",
    "qty_sum.reindex(cats)"
   ]
  },
  {
   "cell_type": "code",
   "execution_count": 22,
   "metadata": {},
   "outputs": [
    {
     "name": "stdout",
     "output_type": "stream",
     "text": [
      "0   -0.016289\n",
      "1   -0.016289\n",
      "2   -0.007118\n",
      "3   -0.016289\n",
      "4   -0.016289\n",
      "Name: Qty, dtype: float64\n"
     ]
    }
   ],
   "source": [
    "# import zscore\n",
    "from scipy.stats import zscore\n",
    "# standardize quantities\n",
    "# Simply put, a z-score (also called a standard score) gives you an idea of how far from the mean a data point is\n",
    "standardized = zscore(sales['Qty'])\n",
    "print(pd.Series(standardized).head())"
   ]
  },
  {
   "cell_type": "code",
   "execution_count": 24,
   "metadata": {},
   "outputs": [],
   "source": [
    "# But what are the Z-Scores with respect to individual\n",
    "# customers?\n",
    "# First, drop the NANs:\n",
    "sales = sales.dropna()\n",
    "# Then, calculate the Z-scores:\n",
    "standardized = pd.DataFrame(\n",
    "sales.groupby('CusID')['Qty'].transform(zscore))"
   ]
  },
  {
   "cell_type": "code",
   "execution_count": 25,
   "metadata": {},
   "outputs": [
    {
     "name": "stdout",
     "output_type": "stream",
     "text": [
      "      InvNo     SKU                               Descr  Qty  \\\n",
      "9    536367   84879       ASSORTED COLOUR BIRD ORNAMENT   32   \n",
      "46   536371   22086     PAPER CHAIN KIT 50'S CHRISTMAS    80   \n",
      "96   536378   21212     PACK OF 72 RETROSPOT CAKE CASES  120   \n",
      "102  536378  85071B  RED CHARLIE+LOLA PERSONAL DOORSIGN   96   \n",
      "147  536382   22381              TOY TIDY PINK POLKADOT   50   \n",
      "\n",
      "                InvDate  UnitP    CusID           Cntry  \n",
      "9   2010-12-01 08:34:00   1.69  13047.0  United Kingdom  \n",
      "46  2010-12-01 09:00:00   2.55  13748.0  United Kingdom  \n",
      "96  2010-12-01 09:37:00   0.42  14688.0  United Kingdom  \n",
      "102 2010-12-01 09:37:00   0.38  14688.0  United Kingdom  \n",
      "147 2010-12-01 09:45:00   1.85  16098.0  United Kingdom  \n"
     ]
    }
   ],
   "source": [
    "# construct a Boolean Series to identify outliers:\n",
    "outliers = ((standardized['Qty'] < -3) |\n",
    "(standardized['Qty'] > 3))\n",
    "# filter by outliers:\n",
    "sales_outliers = sales[outliers]\n",
    "print(sales_outliers.head())"
   ]
  },
  {
   "cell_type": "code",
   "execution_count": null,
   "metadata": {},
   "outputs": [],
   "source": []
  }
 ],
 "metadata": {
  "kernelspec": {
   "display_name": "Python 3",
   "language": "python",
   "name": "python3"
  },
  "language_info": {
   "codemirror_mode": {
    "name": "ipython",
    "version": 3
   },
   "file_extension": ".py",
   "mimetype": "text/x-python",
   "name": "python",
   "nbconvert_exporter": "python",
   "pygments_lexer": "ipython3",
   "version": "3.10.9"
  },
  "orig_nbformat": 4,
  "vscode": {
   "interpreter": {
    "hash": "40ea231ce006ed65b013ba3e9b5a48267321b4d32b910ea3a649228a606377c3"
   }
  }
 },
 "nbformat": 4,
 "nbformat_minor": 2
}
