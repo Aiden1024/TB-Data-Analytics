{
 "cells": [
  {
   "cell_type": "code",
   "execution_count": 46,
   "metadata": {},
   "outputs": [
    {
     "name": "stdout",
     "output_type": "stream",
     "text": [
      "(541909, 8)\n",
      "  InvoiceNo StockCode                          Description  Quantity  \\\n",
      "0    536365    85123A   WHITE HANGING HEART T-LIGHT HOLDER         6   \n",
      "1    536365     71053                  WHITE METAL LANTERN         6   \n",
      "2    536365    84406B       CREAM CUPID HEARTS COAT HANGER         8   \n",
      "3    536365    84029G  KNITTED UNION FLAG HOT WATER BOTTLE         6   \n",
      "4    536365    84029E       RED WOOLLY HOTTIE WHITE HEART.         6   \n",
      "\n",
      "       InvoiceDate  UnitPrice  CustomerID         Country  \n",
      "0  2010-12-01 8:26       2.55     17850.0  United Kingdom  \n",
      "1  2010-12-01 8:26       3.39     17850.0  United Kingdom  \n",
      "2  2010-12-01 8:26       2.75     17850.0  United Kingdom  \n",
      "3  2010-12-01 8:26       3.39     17850.0  United Kingdom  \n",
      "4  2010-12-01 8:26       3.39     17850.0  United Kingdom  \n",
      "InvoiceNo       object\n",
      "StockCode       object\n",
      "Description     object\n",
      "Quantity         int64\n",
      "InvoiceDate     object\n",
      "UnitPrice      float64\n",
      "CustomerID     float64\n",
      "Country         object\n",
      "dtype: object\n",
      "<class 'pandas.core.frame.DataFrame'>\n",
      "RangeIndex: 541909 entries, 0 to 541908\n",
      "Data columns (total 8 columns):\n",
      " #   Column       Non-Null Count   Dtype  \n",
      "---  ------       --------------   -----  \n",
      " 0   InvoiceNo    541909 non-null  object \n",
      " 1   StockCode    541909 non-null  object \n",
      " 2   Description  540455 non-null  object \n",
      " 3   Quantity     541909 non-null  int64  \n",
      " 4   InvoiceDate  541909 non-null  object \n",
      " 5   UnitPrice    541909 non-null  float64\n",
      " 6   CustomerID   406829 non-null  float64\n",
      " 7   Country      541909 non-null  object \n",
      "dtypes: float64(2), int64(1), object(5)\n",
      "memory usage: 33.1+ MB\n",
      "None\n",
      "InvoiceNo      541909\n",
      "StockCode      541909\n",
      "Description    540455\n",
      "Quantity       541909\n",
      "InvoiceDate    541909\n",
      "UnitPrice      541909\n",
      "CustomerID     406829\n",
      "Country        541909\n",
      "dtype: int64\n"
     ]
    }
   ],
   "source": [
    "import pandas as pd\n",
    "# load CSV using pandas\n",
    "from pandas import read_csv\n",
    "filename = 'OnlineRetail.csv'\n",
    "sales = read_csv(filename, encoding = \"ISO-8859-1\")\n",
    "print(sales.shape)\n",
    "print(sales.head())\n",
    "print(sales.dtypes)\n",
    "print(sales.info())\n",
    "print(sales.count())"
   ]
  },
  {
   "cell_type": "code",
   "execution_count": 47,
   "metadata": {},
   "outputs": [
    {
     "name": "stderr",
     "output_type": "stream",
     "text": [
      "C:\\Users\\Administrator\\AppData\\Local\\Temp\\ipykernel_22568\\2938296895.py:5: DtypeWarning: Columns (3,5,6) have mixed types. Specify dtype option on import or set low_memory=False.\n",
      "  sales = read_csv(filename, names=names, encoding =\n"
     ]
    },
    {
     "name": "stdout",
     "output_type": "stream",
     "text": [
      "(541910, 8)\n",
      "       InvNo        SKU                                Descr       Qty  \\\n",
      "0  InvoiceNo  StockCode                          Description  Quantity   \n",
      "1     536365     85123A   WHITE HANGING HEART T-LIGHT HOLDER         6   \n",
      "2     536365      71053                  WHITE METAL LANTERN         6   \n",
      "3     536365     84406B       CREAM CUPID HEARTS COAT HANGER         8   \n",
      "4     536365     84029G  KNITTED UNION FLAG HOT WATER BOTTLE         6   \n",
      "\n",
      "           InvDate      UnitP       CusID           Cntry  \n",
      "0      InvoiceDate  UnitPrice  CustomerID         Country  \n",
      "1  2010-12-01 8:26       2.55       17850  United Kingdom  \n",
      "2  2010-12-01 8:26       3.39       17850  United Kingdom  \n",
      "3  2010-12-01 8:26       2.75       17850  United Kingdom  \n",
      "4  2010-12-01 8:26       3.39       17850  United Kingdom  \n",
      "InvNo      object\n",
      "SKU        object\n",
      "Descr      object\n",
      "Qty        object\n",
      "InvDate    object\n",
      "UnitP      object\n",
      "CusID      object\n",
      "Cntry      object\n",
      "dtype: object\n",
      "(541909, 8)\n",
      "    InvNo     SKU                                Descr  Qty          InvDate  \\\n",
      "0  536365  85123A   WHITE HANGING HEART T-LIGHT HOLDER    6  2010-12-01 8:26   \n",
      "1  536365   71053                  WHITE METAL LANTERN    6  2010-12-01 8:26   \n",
      "2  536365  84406B       CREAM CUPID HEARTS COAT HANGER    8  2010-12-01 8:26   \n",
      "3  536365  84029G  KNITTED UNION FLAG HOT WATER BOTTLE    6  2010-12-01 8:26   \n",
      "4  536365  84029E       RED WOOLLY HOTTIE WHITE HEART.    6  2010-12-01 8:26   \n",
      "\n",
      "   UnitP    CusID           Cntry  \n",
      "0   2.55  17850.0  United Kingdom  \n",
      "1   3.39  17850.0  United Kingdom  \n",
      "2   2.75  17850.0  United Kingdom  \n",
      "3   3.39  17850.0  United Kingdom  \n",
      "4   3.39  17850.0  United Kingdom  \n",
      "InvNo       object\n",
      "SKU         object\n",
      "Descr       object\n",
      "Qty          int64\n",
      "InvDate     object\n",
      "UnitP      float64\n",
      "CusID      float64\n",
      "Cntry       object\n",
      "dtype: object\n"
     ]
    }
   ],
   "source": [
    "# Load CSV using pandas\n",
    "# first attempt\n",
    "names = [\"InvNo\", \"SKU\", \"Descr\", \"Qty\", \"InvDate\",\n",
    "\"UnitP\", \"CusID\", \"Cntry\"]\n",
    "sales = read_csv(filename, names=names, encoding =\n",
    "\"ISO-8859-1\")\n",
    "print(sales.shape)\n",
    "print(sales.head())\n",
    "print(sales.dtypes)\n",
    "# second attempt\n",
    "sales = read_csv(filename, header=0, names=names,\n",
    "encoding = \"ISO-8859-1\")\n",
    "print(sales.shape)\n",
    "print(sales.head())\n",
    "print(sales.dtypes)"
   ]
  },
  {
   "cell_type": "code",
   "execution_count": 48,
   "metadata": {},
   "outputs": [
    {
     "name": "stdout",
     "output_type": "stream",
     "text": [
      "(541909, 4)\n",
      "      SKU                                Descr  UnitP  Qty\n",
      "0  85123A   WHITE HANGING HEART T-LIGHT HOLDER   2.55    6\n",
      "1   71053                  WHITE METAL LANTERN   3.39    6\n",
      "2  84406B       CREAM CUPID HEARTS COAT HANGER   2.75    8\n",
      "3  84029G  KNITTED UNION FLAG HOT WATER BOTTLE   3.39    6\n",
      "4  84029E       RED WOOLLY HOTTIE WHITE HEART.   3.39    6\n"
     ]
    }
   ],
   "source": [
    "# Within each transaction:\n",
    "# Which products, what price, how often?\n",
    "prodsold = sales[['SKU','Descr','UnitP','Qty']]\n",
    "print(prodsold.shape)\n",
    "print(prodsold.head())\n",
    "# Note that the order of columns is different from the\n",
    "# order in the original dataset \"sales\""
   ]
  },
  {
   "cell_type": "code",
   "execution_count": 49,
   "metadata": {},
   "outputs": [
    {
     "name": "stdout",
     "output_type": "stream",
     "text": [
      "(541909, 5)\n",
      "      SKU                                Descr  UnitP  Qty    Rev\n",
      "0  85123A   WHITE HANGING HEART T-LIGHT HOLDER   2.55    6  15.30\n",
      "1   71053                  WHITE METAL LANTERN   3.39    6  20.34\n",
      "2  84406B       CREAM CUPID HEARTS COAT HANGER   2.75    8  22.00\n",
      "3  84029G  KNITTED UNION FLAG HOT WATER BOTTLE   3.39    6  20.34\n",
      "4  84029E       RED WOOLLY HOTTIE WHITE HEART.   3.39    6  20.34\n",
      "      SKU                                Descr  UnitP  Qty    Rev  inCAD\n",
      "0  85123A   WHITE HANGING HEART T-LIGHT HOLDER   2.55    6  15.30  24.37\n",
      "1   71053                  WHITE METAL LANTERN   3.39    6  20.34  32.40\n",
      "2  84406B       CREAM CUPID HEARTS COAT HANGER   2.75    8  22.00  35.04\n",
      "3  84029G  KNITTED UNION FLAG HOT WATER BOTTLE   3.39    6  20.34  32.40\n",
      "4  84029E       RED WOOLLY HOTTIE WHITE HEART.   3.39    6  20.34  32.40\n",
      "      SKU                                Descr  UnitP  Qty    Rev\n",
      "0  85123A   WHITE HANGING HEART T-LIGHT HOLDER   2.55    6  15.30\n",
      "1   71053                  WHITE METAL LANTERN   3.39    6  20.34\n",
      "2  84406B       CREAM CUPID HEARTS COAT HANGER   2.75    8  22.00\n",
      "3  84029G  KNITTED UNION FLAG HOT WATER BOTTLE   3.39    6  20.34\n",
      "4  84029E       RED WOOLLY HOTTIE WHITE HEART.   3.39    6  20.34\n"
     ]
    }
   ],
   "source": [
    "# Revenue?\n",
    "prodsold = prodsold.assign(Rev = prodsold.UnitP *\n",
    "prodsold.Qty)\n",
    "print(prodsold.shape)\n",
    "print(prodsold.head())\n",
    "# Revenue in CAD\n",
    "prodsold = prodsold.assign(inCAD = prodsold.Rev)\n",
    "prodsold.inCAD *= 1.5929\n",
    "print(prodsold.head())\n",
    "# delete inCAD column\n",
    "prodsold = prodsold.drop('inCAD', axis=1)\n",
    "print(prodsold.head())"
   ]
  },
  {
   "cell_type": "code",
   "execution_count": 50,
   "metadata": {},
   "outputs": [
    {
     "name": "stdout",
     "output_type": "stream",
     "text": [
      "           SKU                                Descr  UnitP  Qty    Rev\n",
      "0       85123A   WHITE HANGING HEART T-LIGHT HOLDER   2.97    6  17.84\n",
      "1        71053                  WHITE METAL LANTERN   3.95    6  23.72\n",
      "2       84406B       CREAM CUPID HEARTS COAT HANGER   3.21    8  25.66\n",
      "3       84029G  KNITTED UNION FLAG HOT WATER BOTTLE   3.95    6  23.72\n",
      "4       84029E       RED WOOLLY HOTTIE WHITE HEART.   3.95    6  23.72\n",
      "...        ...                                  ...    ...  ...    ...\n",
      "541904   22613          PACK OF 20 SPACEBOY NAPKINS   0.99   12  11.90\n",
      "541905   22899         CHILDREN'S APRON DOLLY GIRL    2.45    6  14.70\n",
      "541906   23254        CHILDRENS CUTLERY DOLLY GIRL    4.84    4  19.36\n",
      "541907   23255      CHILDRENS CUTLERY CIRCUS PARADE   4.84    4  19.36\n",
      "541908   22138        BAKING SET 9 PIECE RETROSPOT    5.77    3  17.32\n",
      "\n",
      "[541909 rows x 5 columns]\n"
     ]
    }
   ],
   "source": [
    "# function to convert pound sterling to Euro\n",
    "def toEuro(pound):\n",
    "    return pound * 1.1663\n",
    "pd.set_option(\"display.precision\", 2)\n",
    "# convert all entries in column Unit Price\n",
    "prodsold['UnitP'] = prodsold['UnitP'].apply(toEuro)\n",
    "# convert all entries in column Revenue\n",
    "prodsold['Rev'] = prodsold['Rev'].apply(toEuro)\n",
    "print(prodsold)"
   ]
  },
  {
   "cell_type": "code",
   "execution_count": 51,
   "metadata": {},
   "outputs": [],
   "source": [
    "# rename columns:\n",
    "# prodsold.rename(columns={'Rev': 'Rev in Euro', 'UnitP':\n",
    "# 'UnitP in Euro'}, inplace=True)\n",
    "# print(prodsold)\n",
    "# # rename them again:\n",
    "# prodsold.rename(columns={'RevInEuro': 'Rev',\n",
    "# 'UnitP_in_Euro': 'UnitP'}, inplace=True)\n",
    "# print(prodsold)"
   ]
  },
  {
   "cell_type": "code",
   "execution_count": 52,
   "metadata": {},
   "outputs": [
    {
     "name": "stdout",
     "output_type": "stream",
     "text": [
      "           SKU                                Descr  UnitP  Qty    Rev\n",
      "0       85123A   WHITE HANGING HEART T-LIGHT HOLDER   2.97    6  17.84\n",
      "1        71053                  WHITE METAL LANTERN   3.95    6  23.72\n",
      "2       84406B       CREAM CUPID HEARTS COAT HANGER   3.21    8  25.66\n",
      "3       84029G  KNITTED UNION FLAG HOT WATER BOTTLE   3.95    6  23.72\n",
      "4       84029E       RED WOOLLY HOTTIE WHITE HEART.   3.95    6  23.72\n",
      "...        ...                                  ...    ...  ...    ...\n",
      "541904   22613          PACK OF 20 SPACEBOY NAPKINS   0.99   12  11.90\n",
      "541905   22899          CHILDREN'S APRON DOLLY GIRL   2.45    6  14.70\n",
      "541906   23254         CHILDRENS CUTLERY DOLLY GIRL   4.84    4  19.36\n",
      "541907   23255      CHILDRENS CUTLERY CIRCUS PARADE   4.84    4  19.36\n",
      "541908   22138         BAKING SET 9 PIECE RETROSPOT   5.77    3  17.32\n",
      "\n",
      "[541909 rows x 5 columns]\n",
      "           SKU                                Descr  UnitP  Qty    Rev\n",
      "0       85123A   white hanging heart t-light holder   2.97    6  17.84\n",
      "1        71053                  white metal lantern   3.95    6  23.72\n",
      "2       84406B       cream cupid hearts coat hanger   3.21    8  25.66\n",
      "3       84029G  knitted union flag hot water bottle   3.95    6  23.72\n",
      "4       84029E       red woolly hottie white heart.   3.95    6  23.72\n",
      "...        ...                                  ...    ...  ...    ...\n",
      "541904   22613          pack of 20 spaceboy napkins   0.99   12  11.90\n",
      "541905   22899          children's apron dolly girl   2.45    6  14.70\n",
      "541906   23254         childrens cutlery dolly girl   4.84    4  19.36\n",
      "541907   23255      childrens cutlery circus parade   4.84    4  19.36\n",
      "541908   22138         baking set 9 piece retrospot   5.77    3  17.32\n",
      "\n",
      "[541909 rows x 5 columns]\n",
      "           SKU                                Descr  UnitP  Qty    Rev\n",
      "0       85123A   white hanging heart t-light holder   2.97    6  17.84\n",
      "1        71053                  white metal lantern   3.95    6  23.72\n",
      "2       84406B       cream cupid hearts coat hanger   3.21    8  25.66\n",
      "3       84029G  knitted union flag hot water bottle   3.95    6  23.72\n",
      "4       84029E        red woolly hottie white heart   3.95    6  23.72\n",
      "...        ...                                  ...    ...  ...    ...\n",
      "541904   22613          pack of 20 spaceboy napkins   0.99   12  11.90\n",
      "541905   22899          children's apron dolly girl   2.45    6  14.70\n",
      "541906   23254         childrens cutlery dolly girl   4.84    4  19.36\n",
      "541907   23255      childrens cutlery circus parade   4.84    4  19.36\n",
      "541908   22138         baking set 9 piece retrospot   5.77    3  17.32\n",
      "\n",
      "[541909 rows x 5 columns]\n"
     ]
    },
    {
     "name": "stderr",
     "output_type": "stream",
     "text": [
      "C:\\Users\\Administrator\\AppData\\Local\\Temp\\ipykernel_22568\\963625076.py:8: FutureWarning: The default value of regex will change from True to False in a future version. In addition, single character regular expressions will *not* be treated as literal strings when regex=True.\n",
      "  prodsold['Descr'] = prodsold['Descr'].str.replace('.','')\n"
     ]
    }
   ],
   "source": [
    "# trim/strip white spaces around text:\n",
    "prodsold['Descr'] = prodsold['Descr'].str.strip()\n",
    "print(prodsold)\n",
    "# change all letters to lower case:\n",
    "prodsold['Descr'] = prodsold['Descr'].str.lower()\n",
    "print(prodsold)\n",
    "# remove full-stop:\n",
    "prodsold['Descr'] = prodsold['Descr'].str.replace('.','')\n",
    "print(prodsold)"
   ]
  },
  {
   "cell_type": "code",
   "execution_count": 53,
   "metadata": {},
   "outputs": [
    {
     "name": "stdout",
     "output_type": "stream",
     "text": [
      "           SKU                           Descr     UnitP   Qty       Rev\n",
      "299984       B                 adjust bad debt -12901.68     1 -12901.68\n",
      "299983       B                 adjust bad debt -12901.68     1 -12901.68\n",
      "40984    22652               travel sewing kit      0.00     1      0.00\n",
      "52217   84562A                             NaN      0.00     1      0.00\n",
      "52262     POST                             NaN      0.00  1000      0.00\n",
      "344867   85215                         damaged      0.00   -29     -0.00\n",
      "204945   85016                             NaN      0.00     5      0.00\n",
      "104419  18098C  porcelain butterfly oil burner      0.00     6      0.00\n",
      "104418   20615    blue polkadot passport cover      0.00     3      0.00\n",
      "115488  35610C                     thrown away      0.00 -1121     -0.00\n",
      "           SKU                         Descr     UnitP   Qty       Rev\n",
      "299983       B               adjust bad debt -12901.68     1 -12901.68\n",
      "299984       B               adjust bad debt -12901.68     1 -12901.68\n",
      "225529   23005  printing smudges/thrown away      0.00 -9600     -0.00\n",
      "225530   23005  printing smudges/thrown away      0.00 -9600     -0.00\n",
      "225528   23003  printing smudges/thrown away      0.00 -9058     -0.00\n",
      "115818  72140F                    throw away      0.00 -5368     -0.00\n",
      "431381  79323W         unsaleable, destroyed      0.00 -4830     -0.00\n",
      "341601   16045                           NaN      0.00 -3667     -0.00\n",
      "323458   16259                           NaN      0.00 -3167     -0.00\n",
      "263884   20713   wrongly marked 23343 in box      0.00 -3100     -0.00\n"
     ]
    }
   ],
   "source": [
    "# Sorting by Unit Price\n",
    "sorted = prodsold.sort_values(['UnitP'])\n",
    "\n",
    "print(sorted.head(10))\n",
    "# First sort by Unit Price, then by Quantity\n",
    "sorted = prodsold.sort_values(['UnitP','Qty'])\n",
    "print(sorted.head(10))"
   ]
  },
  {
   "cell_type": "code",
   "execution_count": 55,
   "metadata": {},
   "outputs": [
    {
     "name": "stdout",
     "output_type": "stream",
     "text": [
      "              SKU            Descr     UnitP  Qty       Rev\n",
      "222681          M           manual  45450.71   -1 -45450.71\n",
      "524602  AMAZONFEE       amazon fee  20802.66   -1 -20802.66\n",
      "43702   AMAZONFEE       amazon fee  19696.50   -1 -19696.50\n",
      "43703   AMAZONFEE       amazon fee  19189.96   -1 -19189.96\n",
      "15017   AMAZONFEE       amazon fee  15793.25    1  15793.25\n",
      "15016   AMAZONFEE       amazon fee  15793.25   -1 -15793.25\n",
      "16356   AMAZONFEE       amazon fee  15793.25   -1 -15793.25\n",
      "16232   AMAZONFEE       amazon fee  15715.65   -1 -15715.65\n",
      "524601  AMAZONFEE       amazon fee  13513.33   -1 -13513.33\n",
      "299982          B  adjust bad debt  12901.68    1  12901.68\n",
      "           SKU                                Descr     UnitP    Qty       Rev\n",
      "299983       B                      adjust bad debt -12901.68      1 -12901.68\n",
      "299984       B                      adjust bad debt -12901.68      1 -12901.68\n",
      "502122   84826       asstd design 3d paper stickers      0.00  12540      0.00\n",
      "74614    37413                                  NaN      0.00   5568      0.00\n",
      "220843  85123A                                    ?      0.00   4000      0.00\n",
      "263885   23343                  came coded as 20713      0.00   3100      0.00\n",
      "115807   84988                                    ?      0.00   3000      0.00\n",
      "74615   79063D                                  NaN      0.00   2560      0.00\n",
      "160541  47556B  did  a credit  and did not tick ret      0.00   1300      0.00\n",
      "203751  47566B  incorrectly credited c550456 see 47      0.00   1300      0.00\n"
     ]
    }
   ],
   "source": [
    "# Now in descending order (both columns)\n",
    "sorted = prodsold.sort_values(['UnitP','Qty'],\n",
    "ascending=False)\n",
    "print(sorted.head(10))\n",
    "# Now in ascending for Unit Price and then in\n",
    "# descending order for Quantity\n",
    "sorted = prodsold.sort_values(['UnitP','Qty'],\n",
    "ascending=[True,False])\n",
    "print(sorted.head(10))"
   ]
  },
  {
   "cell_type": "code",
   "execution_count": 56,
   "metadata": {},
   "outputs": [
    {
     "name": "stdout",
     "output_type": "stream",
     "text": [
      "0         False\n",
      "1         False\n",
      "2         False\n",
      "3         False\n",
      "4         False\n",
      "          ...  \n",
      "541904    False\n",
      "541905    False\n",
      "541906    False\n",
      "541907    False\n",
      "541908    False\n",
      "Name: UnitP, Length: 541909, dtype: bool\n",
      "          SKU                            Descr  UnitP  Qty     Rev\n",
      "16      22622   box of vintage alphabet blocks  11.60    2   23.21\n",
      "45       POST                          postage  20.99    3   62.98\n",
      "65      21258       victorian sewing box large  12.77   32  408.67\n",
      "141         D                         discount  32.07   -1  -32.07\n",
      "151     22839  3 tier cake tin green and cream  17.44    2   34.87\n",
      "...       ...                              ...    ...  ...     ...\n",
      "541767   POST                          postage  20.99    2   41.99\n",
      "541768   POST                          postage  20.99    3   62.98\n",
      "541786  22622   box of vintage alphabet blocks  13.94    6   83.62\n",
      "541849  22894     tablecloth red apples design  11.60    2   23.21\n",
      "541892  21217    red retrospot round cake tins  10.44   24  250.52\n",
      "\n",
      "[32822 rows x 5 columns]\n"
     ]
    }
   ],
   "source": [
    "# Create a Boolean array for all products\n",
    "# with price > 9.99\n",
    "atleast10 = prodsold.UnitP > 9.99\n",
    "print(atleast10)\n",
    "# filter the prodsold DataFrame accordingly\n",
    "atleast10_df = prodsold[atleast10]\n",
    "print(atleast10_df)"
   ]
  },
  {
   "cell_type": "code",
   "execution_count": 57,
   "metadata": {},
   "outputs": [
    {
     "name": "stdout",
     "output_type": "stream",
     "text": [
      "           SKU                             Descr   UnitP  Qty     Rev\n",
      "141          D                          discount   32.07   -1  -32.07\n",
      "154     35004C   set of 3 coloured  flying ducks    5.42   -1   -5.42\n",
      "235      22556     plasters in tin circus parade    1.92  -12  -23.09\n",
      "236      21984   pack of 12 pink paisley tissues    0.34  -24   -8.12\n",
      "237      21983   pack of 12 blue paisley tissues    0.34  -24   -8.12\n",
      "...        ...                               ...     ...  ...     ...\n",
      "540449   23144   zinc t-light holder stars small    0.97  -11  -10.65\n",
      "541541       M                            manual  262.06   -1 -262.06\n",
      "541715   21258        victorian sewing box large   12.77   -5  -63.85\n",
      "541716   84978  hanging heart jar t-light holder    1.46   -1   -1.46\n",
      "541717   20979     36 pencils tube red retrospot    1.46   -5   -7.29\n",
      "\n",
      "[10624 rows x 5 columns]\n",
      "          SKU                            Descr   UnitP  Qty     Rev\n",
      "141         D                         discount   32.07   -1  -32.07\n",
      "1978    22767       triple photo frame cornice   11.60   -2  -23.21\n",
      "3410    22839  3 tier cake tin green and cream   17.44   -2  -34.87\n",
      "4836    22501       picnic basket wicker large   11.60   -2  -23.21\n",
      "4878    85066      cream sweetheart mini chest   14.87   -2  -29.74\n",
      "...       ...                              ...     ...  ...     ...\n",
      "538561  23462         rococo wall mirror white   23.27   -1  -23.27\n",
      "540081  23458          dolly cabinet 3 drawers   17.44   -1  -17.44\n",
      "540087  22838    3 tier cake tin red and cream   17.44   -1  -17.44\n",
      "541541      M                           manual  262.06   -1 -262.06\n",
      "541715  21258       victorian sewing box large   12.77   -5  -63.85\n",
      "\n",
      "[1410 rows x 5 columns]\n"
     ]
    }
   ],
   "source": [
    "# Create a Boolean array for all returns\n",
    "# (or discounts, fees and charges)\n",
    "returns = prodsold.Qty < 0\n",
    "# filter the prodsold DataFrame accordingly\n",
    "returns_df = prodsold[returns]\n",
    "print(returns_df)\n",
    "# use both conditions to filter\n",
    "returns_atleast10_df = prodsold[returns & atleast10]\n",
    "print(returns_atleast10_df)\n",
    "# & means AND | means OR ~ means NOT"
   ]
  },
  {
   "cell_type": "code",
   "execution_count": 58,
   "metadata": {},
   "outputs": [
    {
     "name": "stdout",
     "output_type": "stream",
     "text": [
      "(541909, 8)\n",
      "InvNo      541909\n",
      "SKU        541909\n",
      "Descr      540455\n",
      "Qty        541909\n",
      "InvDate    541909\n",
      "UnitP      541909\n",
      "CusID      406829\n",
      "Cntry      541909\n",
      "dtype: int64\n"
     ]
    }
   ],
   "source": [
    "# Several columns are missing data:\n",
    "print(sales.shape)\n",
    "print(sales.count())"
   ]
  },
  {
   "cell_type": "code",
   "execution_count": 59,
   "metadata": {},
   "outputs": [
    {
     "name": "stdout",
     "output_type": "stream",
     "text": [
      "0    False\n",
      "1     True\n",
      "2    False\n",
      "3     True\n",
      "4    False\n",
      "dtype: bool\n",
      "0    1.0\n",
      "2    3.5\n",
      "4    7.0\n",
      "dtype: float64\n",
      "0    1.0\n",
      "2    3.5\n",
      "4    7.0\n",
      "dtype: float64\n"
     ]
    }
   ],
   "source": [
    "# Example\n",
    "import pandas as pd\n",
    "from numpy import nan as NA\n",
    "myseries = pd.Series([1, NA, 3.5, NA, 7])\n",
    "print(myseries.isnull())\n",
    "print(myseries.dropna())\n",
    "# which is equivalent to\n",
    "print(myseries[myseries.notnull()])"
   ]
  },
  {
   "cell_type": "code",
   "execution_count": 60,
   "metadata": {},
   "outputs": [
    {
     "name": "stdout",
     "output_type": "stream",
     "text": [
      "     0    1    2\n",
      "0  1.0  6.5  3.0\n",
      "1  1.0  NaN  NaN\n",
      "2  NaN  NaN  NaN\n",
      "3  NaN  6.5  3.0\n",
      "     0    1    2\n",
      "0  1.0  6.5  3.0\n",
      "     0    1    2\n",
      "0  1.0  6.5  3.0\n",
      "     0    1    2\n",
      "0  1.0  6.5  3.0\n",
      "1  1.0  NaN  NaN\n",
      "3  NaN  6.5  3.0\n"
     ]
    }
   ],
   "source": [
    "mydf = pd.DataFrame([[1., 6.5, 3.], [1., NA, NA], [NA,\n",
    "NA, NA], [NA, 6.5, 3.]])\n",
    "print(mydf)\n",
    "cleaned = mydf.dropna()\n",
    "print(cleaned)\n",
    "# Equivalent to passing how='any':\n",
    "cleaned = mydf.dropna(how='any')\n",
    "print(cleaned)\n",
    "# Passing how='all' will only drop rows that are all NA:\n",
    "cleaned = mydf.dropna(how='all')\n",
    "print(cleaned)"
   ]
  },
  {
   "cell_type": "code",
   "execution_count": null,
   "metadata": {},
   "outputs": [],
   "source": []
  }
 ],
 "metadata": {
  "kernelspec": {
   "display_name": "Python 3.9.13 64-bit (microsoft store)",
   "language": "python",
   "name": "python3"
  },
  "language_info": {
   "codemirror_mode": {
    "name": "ipython",
    "version": 3
   },
   "file_extension": ".py",
   "mimetype": "text/x-python",
   "name": "python",
   "nbconvert_exporter": "python",
   "pygments_lexer": "ipython3",
   "version": "3.9.13 (tags/v3.9.13:6de2ca5, May 17 2022, 16:36:42) [MSC v.1929 64 bit (AMD64)]"
  },
  "orig_nbformat": 4,
  "vscode": {
   "interpreter": {
    "hash": "615be1651665fc35c2af7121c386b9d22030c77903c88f0626be7018561696ed"
   }
  }
 },
 "nbformat": 4,
 "nbformat_minor": 2
}
